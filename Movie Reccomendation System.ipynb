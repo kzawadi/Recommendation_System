{
 "cells": [
  {
   "cell_type": "markdown",
   "metadata": {},
   "source": [
    "### Movie Recommendation System"
   ]
  },
  {
   "cell_type": "code",
   "execution_count": 1,
   "metadata": {
    "collapsed": true
   },
   "outputs": [],
   "source": [
    "# import packages\n",
    "import numpy as np\n",
    "import pandas as pd\n",
    "import surprise as spr"
   ]
  },
  {
   "cell_type": "code",
   "execution_count": 78,
   "metadata": {},
   "outputs": [],
   "source": [
    "# load dataset\n",
    "df = pd.read_csv('training_ratings_for_kaggle_comp.csv')"
   ]
  },
  {
   "cell_type": "code",
   "execution_count": 79,
   "metadata": {},
   "outputs": [],
   "source": [
    "# drop unnecessary columns\n",
    "df = df.drop('id', axis=1)"
   ]
  },
  {
   "cell_type": "code",
   "execution_count": 17,
   "metadata": {},
   "outputs": [
    {
     "name": "stdout",
     "output_type": "stream",
     "text": [
      "<class 'pandas.core.frame.DataFrame'>\n",
      "RangeIndex: 500100 entries, 0 to 500099\n",
      "Data columns (total 3 columns):\n",
      "user      500100 non-null int64\n",
      "movie     500100 non-null int64\n",
      "rating    500100 non-null int64\n",
      "dtypes: int64(3)\n",
      "memory usage: 11.4 MB\n",
      "   user  movie  rating\n",
      "0  2783   1253       5\n",
      "1  2783    589       5\n",
      "2  2783   1270       4\n",
      "3  2783   1274       4\n",
      "4  2783    741       5 None\n"
     ]
    }
   ],
   "source": [
    "# dataset overview\n",
    "print(df.head(5), df.info())"
   ]
  },
  {
   "cell_type": "code",
   "execution_count": 80,
   "metadata": {},
   "outputs": [],
   "source": [
    "# read dataframe into suprise framework\n",
    "reader = spr.Reader()\n",
    "df = spr.Dataset.load_from_df(df, reader)"
   ]
  },
  {
   "cell_type": "code",
   "execution_count": 72,
   "metadata": {},
   "outputs": [],
   "source": [
    "# split dataframe\n",
    "df.split(n_folds=5)"
   ]
  },
  {
   "cell_type": "code",
   "execution_count": 26,
   "metadata": {
    "collapsed": true
   },
   "outputs": [],
   "source": [
    "# use SVD model\n",
    "svd = spr.SVD()"
   ]
  },
  {
   "cell_type": "code",
   "execution_count": 37,
   "metadata": {},
   "outputs": [
    {
     "name": "stdout",
     "output_type": "stream",
     "text": [
      "Evaluating RMSE, MAE of algorithm SVD on 5 split(s).\n",
      "\n",
      "                  Fold 1  Fold 2  Fold 3  Fold 4  Fold 5  Mean    Std     \n",
      "RMSE (testset)    0.8885  0.8914  0.8918  0.8896  0.8887  0.8900  0.0014  \n",
      "MAE (testset)     0.6978  0.6998  0.7008  0.6997  0.6990  0.6994  0.0010  \n",
      "Fit time          48.04   50.03   50.98   50.18   30.63   45.97   7.73    \n",
      "Test time         1.43    1.82    1.14    0.96    0.82    1.23    0.36    \n"
     ]
    },
    {
     "data": {
      "text/plain": [
       "{'fit_time': (48.03668737411499,\n",
       "  50.033841609954834,\n",
       "  50.97644805908203,\n",
       "  50.18429231643677,\n",
       "  30.63473916053772),\n",
       " 'test_mae': array([ 0.69780336,  0.69984575,  0.70076509,  0.69972718,  0.69899464]),\n",
       " 'test_rmse': array([ 0.88849258,  0.89139487,  0.89182634,  0.88961879,  0.8887424 ]),\n",
       " 'test_time': (1.4271659851074219,\n",
       "  1.8215460777282715,\n",
       "  1.1354069709777832,\n",
       "  0.9560065269470215,\n",
       "  0.8244674205780029)}"
      ]
     },
     "execution_count": 37,
     "metadata": {},
     "output_type": "execute_result"
    }
   ],
   "source": [
    "# run 5-fold cross validation\n",
    "from surprise.model_selection import cross_validate\n",
    "cross_validate(svd, df, measures=['RMSE','MAE'], verbose=True) # verbose(bool): Whether to print details of the prediction"
   ]
  },
  {
   "cell_type": "code",
   "execution_count": 38,
   "metadata": {
    "collapsed": true
   },
   "outputs": [],
   "source": [
    "# Do not split the dataset into folds and just return a trainset as it is, built from the whole dataset.\n",
    "train = df.build_full_trainset()"
   ]
  },
  {
   "cell_type": "code",
   "execution_count": 49,
   "metadata": {},
   "outputs": [
    {
     "name": "stderr",
     "output_type": "stream",
     "text": [
      "C:\\Users\\mibiy\\Anaconda3\\lib\\site-packages\\surprise\\prediction_algorithms\\algo_base.py:51: UserWarning: train() is deprecated. Use fit() instead\n",
      "  warnings.warn('train() is deprecated. Use fit() instead', UserWarning)\n"
     ]
    }
   ],
   "source": [
    "# get prediction of User 2555's rateing for Movie 589\n",
    "\n",
    "svd1=svd.train(train)"
   ]
  },
  {
   "cell_type": "code",
   "execution_count": 62,
   "metadata": {},
   "outputs": [
    {
     "data": {
      "text/plain": [
       "Prediction(uid=2555, iid=589, r_ui=None, est=4.0060065528104021, details={'was_impossible': False})"
      ]
     },
     "execution_count": 62,
     "metadata": {},
     "output_type": "execute_result"
    }
   ],
   "source": [
    "svd1.predict(2555, 589) # r_ui(float): The true rating"
   ]
  },
  {
   "cell_type": "code",
   "execution_count": 63,
   "metadata": {},
   "outputs": [],
   "source": [
    "svd2 = svd.fit(train)"
   ]
  },
  {
   "cell_type": "code",
   "execution_count": 65,
   "metadata": {},
   "outputs": [
    {
     "data": {
      "text/plain": [
       "Prediction(uid=2555, iid=589, r_ui=None, est=4.0152696642542685, details={'was_impossible': False})"
      ]
     },
     "execution_count": 65,
     "metadata": {},
     "output_type": "execute_result"
    }
   ],
   "source": [
    "svd2.predict(2555,589)"
   ]
  }
 ],
 "metadata": {
  "kernelspec": {
   "display_name": "Python 3",
   "language": "python",
   "name": "python3"
  },
  "language_info": {
   "codemirror_mode": {
    "name": "ipython",
    "version": 3
   },
   "file_extension": ".py",
   "mimetype": "text/x-python",
   "name": "python",
   "nbconvert_exporter": "python",
   "pygments_lexer": "ipython3",
   "version": "3.6.3"
  }
 },
 "nbformat": 4,
 "nbformat_minor": 2
}
